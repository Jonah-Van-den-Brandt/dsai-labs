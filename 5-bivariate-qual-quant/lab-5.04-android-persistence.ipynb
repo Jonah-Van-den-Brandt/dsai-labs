{
  "cells": [
    {
      "cell_type": "markdown",
      "metadata": {
        "id": "RzEWLSEPt30W"
      },
      "source": [
        "# Lab 5.04 - Two-sample t-test"
      ]
    },
    {
      "cell_type": "code",
      "execution_count": 6,
      "metadata": {
        "id": "QnEzGI2its2h"
      },
      "outputs": [],
      "source": [
        "# Package imports\n",
        "import numpy as np                                  # \"Scientific computing\"\n",
        "import scipy.stats as stats                         # Statistical tests\n",
        "\n",
        "import pandas as pd                                 # Dataframe\n",
        "from pandas.api.types import CategoricalDtype\n",
        "import matplotlib.pyplot as plt                     # Basic visualisation\n",
        "from statsmodels.graphics.mosaicplot import mosaic  # Mosaic plot\n",
        "import seaborn as sns                               # Advanced dataviz"
      ]
    },
    {
      "cell_type": "markdown",
      "metadata": {},
      "source": [
        "## Exercise 4 - Android Persistence libraries performance comparison\n",
        "\n",
        "We analyzed the results of performance measurements for Android persistence libraries (Akin, 2016). Experiments were performed for different combinations of *DataSize* (Small, Medium, Large) and *PersistenceType* (GreenDAO, Realm, SharedPreferences, SQLite). For each data size, we were able to determine which persistence type yielded the best results.\n",
        "\n",
        "Now we will verify if the best persistence type at first glance is also *significantly* better than the competition.\n",
        "\n",
        "Specifically: Using a two-sample test for each data size, verify that the mean of the best persistence type is significantly lower than the mean of the second best and the worst scoring type.\n",
        "\n",
        "Can we maintain the conclusion that for a given data size, one persistence type is best, i.e. is significantly better than any other persistence type?"
      ]
    },
    {
      "cell_type": "code",
      "execution_count": 41,
      "metadata": {},
      "outputs": [
        {
          "data": {
            "text/html": [
              "<div>\n",
              "<style scoped>\n",
              "    .dataframe tbody tr th:only-of-type {\n",
              "        vertical-align: middle;\n",
              "    }\n",
              "\n",
              "    .dataframe tbody tr th {\n",
              "        vertical-align: top;\n",
              "    }\n",
              "\n",
              "    .dataframe thead th {\n",
              "        text-align: right;\n",
              "    }\n",
              "</style>\n",
              "<table border=\"1\" class=\"dataframe\">\n",
              "  <thead>\n",
              "    <tr style=\"text-align: right;\">\n",
              "      <th></th>\n",
              "      <th>Time</th>\n",
              "      <th>PersistenceType</th>\n",
              "      <th>DataSize</th>\n",
              "    </tr>\n",
              "  </thead>\n",
              "  <tbody>\n",
              "    <tr>\n",
              "      <th>0</th>\n",
              "      <td>1.81</td>\n",
              "      <td>Sharedpreferences</td>\n",
              "      <td>Small</td>\n",
              "    </tr>\n",
              "    <tr>\n",
              "      <th>1</th>\n",
              "      <td>1.35</td>\n",
              "      <td>Sharedpreferences</td>\n",
              "      <td>Small</td>\n",
              "    </tr>\n",
              "    <tr>\n",
              "      <th>2</th>\n",
              "      <td>1.84</td>\n",
              "      <td>Sharedpreferences</td>\n",
              "      <td>Small</td>\n",
              "    </tr>\n",
              "    <tr>\n",
              "      <th>3</th>\n",
              "      <td>1.54</td>\n",
              "      <td>Sharedpreferences</td>\n",
              "      <td>Small</td>\n",
              "    </tr>\n",
              "    <tr>\n",
              "      <th>4</th>\n",
              "      <td>1.81</td>\n",
              "      <td>Sharedpreferences</td>\n",
              "      <td>Small</td>\n",
              "    </tr>\n",
              "  </tbody>\n",
              "</table>\n",
              "</div>"
            ],
            "text/plain": [
              "   Time    PersistenceType DataSize\n",
              "0  1.81  Sharedpreferences    Small\n",
              "1  1.35  Sharedpreferences    Small\n",
              "2  1.84  Sharedpreferences    Small\n",
              "3  1.54  Sharedpreferences    Small\n",
              "4  1.81  Sharedpreferences    Small"
            ]
          },
          "execution_count": 41,
          "metadata": {},
          "output_type": "execute_result"
        }
      ],
      "source": [
        "df = pd.read_csv('../data/android_persistence_cpu.csv', delimiter=';')\n",
        "df.DataSize = df.DataSize.astype(CategoricalDtype(['Small', 'Medium', 'Large'], ordered=True))\n",
        "df.head()"
      ]
    },
    {
      "cell_type": "code",
      "execution_count": 16,
      "metadata": {},
      "outputs": [
        {
          "data": {
            "text/plain": [
              "<Axes: xlabel='Time', ylabel='DataSize'>"
            ]
          },
          "execution_count": 16,
          "metadata": {},
          "output_type": "execute_result"
        },
        {
          "data": {
            "image/png": "[encoded data removed]",
            "text/plain": [
              "<Figure size 640x480 with 1 Axes>"
            ]
          },
          "metadata": {},
          "output_type": "display_data"
        }
      ],
      "source": [
        "sns.boxplot(data=df, y=df.DataSize, hue=df.PersistenceType, x=df.Time)"
      ]
    },
    {
      "cell_type": "code",
      "execution_count": 48,
      "metadata": {},
      "outputs": [
        {
          "name": "stdout",
          "output_type": "stream",
          "text": [
            "pvalue = 0.16992370571901444\n"
          ]
        }
      ],
      "source": [
        "sized = df.loc[df['DataSize'] == 'Small']\n",
        "time = sized.groupby(df['PersistenceType'])['Time']\n",
        "order = time.mean().sort_values()\n",
        "best = order.index[0]\n",
        "sec = order.index[1]\n",
        "\n",
        "_, pvalue = stats.ttest_ind(\n",
        "    sized.loc[sized['PersistenceType'] == best]['Time'],\n",
        "    sized.loc[sized['PersistenceType'] == sec]['Time'],\n",
        "    alternative='less',\n",
        "    equal_var=False)\n",
        "print(f\"pvalue = {pvalue}\")"
      ]
    },
    {
      "cell_type": "code",
      "execution_count": 49,
      "metadata": {},
      "outputs": [
        {
          "name": "stdout",
          "output_type": "stream",
          "text": [
            "pvalue = 0.0002506300568234833\n"
          ]
        }
      ],
      "source": [
        "sized = df.loc[df['DataSize'] == 'Medium']\n",
        "time = sized.groupby(df['PersistenceType'])['Time']\n",
        "order = time.mean().sort_values()\n",
        "best = order.index[0]\n",
        "sec = order.index[1]\n",
        "\n",
        "_, pvalue = stats.ttest_ind(\n",
        "    sized.loc[sized['PersistenceType'] == best]['Time'],\n",
        "    sized.loc[sized['PersistenceType'] == sec]['Time'],\n",
        "    alternative='less',\n",
        "    equal_var=False)\n",
        "print(f\"pvalue = {pvalue}\")"
      ]
    },
    {
      "cell_type": "code",
      "execution_count": 50,
      "metadata": {},
      "outputs": [
        {
          "name": "stdout",
          "output_type": "stream",
          "text": [
            "pvalue = 0.0016999220614984435\n"
          ]
        }
      ],
      "source": [
        "sized = df.loc[df['DataSize'] == 'Large']\n",
        "time = sized.groupby(df['PersistenceType'])['Time']\n",
        "order = time.mean().sort_values()\n",
        "best = order.index[0]\n",
        "sec = order.index[1]\n",
        "\n",
        "_, pvalue = stats.ttest_ind(\n",
        "    sized.loc[sized['PersistenceType'] == best]['Time'],\n",
        "    sized.loc[sized['PersistenceType'] == sec]['Time'],\n",
        "    alternative='less',\n",
        "    equal_var=False)\n",
        "print(f\"pvalue = {pvalue}\")"
      ]
    },
    {
      "cell_type": "markdown",
      "metadata": {},
      "source": [
        "### Answers\n",
        "\n",
        "The table below provides an overview of the best and second best persistence type for each data size (based on the sample mean).\n",
        "\n",
        "| Data Size | Best  | 2nd Best          | p-value   |\n",
        "| :-------- | :---- | :---------------- | :-------- |\n",
        "| Small     | Realm | SharedPreferences | 0.1699    |\n",
        "| Medium    | Realm | GreenDAO          | 0.0002506 |\n",
        "| Large     | Realm | SQLite            | 0.0017    |\n",
        "\n",
        "The conclusion of Akin (2016), which states that Realm is the most efficient persistence type, still holds, but for the small data sets the difference is not significant.\n",
        "\n",
        "Note that we have not explicitly selected a specific significance level in advance. However, for $\\alpha$ = 0.1, 0.05 or even 0.01, the same conclusion can be drawn."
      ]
    }
  ],
  "metadata": {
    "colab": {
      "provenance": []
    },
    "kernelspec": {
      "display_name": "Python 3",
      "name": "python3"
    },
    "language_info": {
      "codemirror_mode": {
        "name": "ipython",
        "version": 3
      },
      "file_extension": ".py",
      "mimetype": "text/x-python",
      "name": "python",
      "nbconvert_exporter": "python",
      "pygments_lexer": "ipython3",
      "version": "3.12.0"
    }
  },
  "nbformat": 4,
  "nbformat_minor": 0
}
