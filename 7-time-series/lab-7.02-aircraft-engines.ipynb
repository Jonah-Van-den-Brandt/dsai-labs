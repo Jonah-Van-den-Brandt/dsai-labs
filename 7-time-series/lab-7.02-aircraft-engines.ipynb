{
  "cells": [
    {
      "cell_type": "markdown",
      "metadata": {
        "id": "ifLP6PF2VNyG"
      },
      "source": [
        "# Lab 7.02 - Time series analysis"
      ]
    },
    {
      "cell_type": "code",
      "execution_count": null,
      "metadata": {
        "id": "PwYaTAjzVNyI"
      },
      "outputs": [],
      "source": [
        "# Package imports"
      ]
    },
    {
      "cell_type": "markdown",
      "metadata": {
        "id": "z8e3JogMwQLG"
      },
      "source": [
        "## Exercise 2 - aircraft engines\n",
        "\n",
        "You have been assigned to forecast the number of aircraft engines ordered each month from an engine manufacturing company. At the end of February, the\n",
        "forecast is that 100 engines will be ordered during April.\n",
        "Then during March, 120 engines are actually ordered.  \n",
        "Using $\\alpha$ = 0.3, determine a forecast (at the end of March) for the number of orders placed during April and during May. Use simple exponential\n",
        "smoothing.  \n",
        "These are the appropriate formulae\n",
        "\n",
        "$X_t = \\alpha x_t + (1 - \\alpha) X_{t-1}$\n",
        "\n",
        "$F_{t+m} = X_t$"
      ]
    },
    {
      "cell_type": "code",
      "execution_count": 2,
      "metadata": {},
      "outputs": [
        {
          "name": "stdout",
          "output_type": "stream",
          "text": [
            "Forecast for April: 106.0\n",
            "Forecast for May: 106.0\n",
            "Smoothed value at end of March: 106.0\n"
          ]
        }
      ],
      "source": [
        "alpha = 0.3\n",
        "X_feb = 100   # Forecast for April made at end of February\n",
        "x_mar = 120   # Actual orders in March\n",
        "\n",
        "# Calculate smoothed value at end of March\n",
        "X_mar = alpha * x_mar + (1 - alpha) * X_feb\n",
        "\n",
        "# Forecasts\n",
        "F_april = X_mar  # Forecast for April at end of March\n",
        "F_may = X_mar    # Forecast for May at end of March\n",
        "\n",
        "print(f\"Forecast for April: {F_april}\")\n",
        "print(f\"Forecast for May: {F_may}\")\n",
        "print(f\"Smoothed value at end of March: {X_mar}\")"
      ]
    },
    {
      "cell_type": "markdown",
      "metadata": {
        "id": "OzaYuRuogzWf"
      },
      "source": [
        "## Source\n",
        "Business Analytics Data Analysis & Decision Making "
      ]
    }
  ],
  "metadata": {
    "colab": {
      "provenance": []
    },
    "kernelspec": {
      "display_name": "Python 3",
      "language": "python",
      "name": "python3"
    },
    "language_info": {
      "codemirror_mode": {
        "name": "ipython",
        "version": 3
      },
      "file_extension": ".py",
      "mimetype": "text/x-python",
      "name": "python",
      "nbconvert_exporter": "python",
      "pygments_lexer": "ipython3",
      "version": "3.12.0"
    },
    "orig_nbformat": 4
  },
  "nbformat": 4,
  "nbformat_minor": 0
}
