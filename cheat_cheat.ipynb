{
 "cells": [
  {
   "cell_type": "markdown",
   "id": "c01a02c9",
   "metadata": {},
   "source": [
    "## 📈 Central Tendency\n",
    "\n",
    "| Term     | Description                                                   |\n",
    "|----------|---------------------------------------------------------------|\n",
    "| Mean     | The average of all values.                                     |\n",
    "| Median   | The middle value in sorted data.                               |\n",
    "| Mode     | The most frequently occurring value.                           |\n",
    "\n",
    "## 📐 Dispersion (Spread)\n",
    "\n",
    "| Term                | Description                                                                   |\n",
    "|---------------------|-------------------------------------------------------------------------------|\n",
    "| Standard Deviation  | Average distance from the mean; higher means more spread.                    |\n",
    "| Variance            | Square of the standard deviation.                                             |\n",
    "| Range               | Difference between the max and min value.                                     |\n",
    "| Interquartile Range (IQR) | Range of the middle 50% (Q3 - Q1).                                    |\n",
    "\n",
    "## 🔺 Shape of Distribution\n",
    "\n",
    "| Term      | Description                                                                            |\n",
    "|-----------|----------------------------------------------------------------------------------------|\n",
    "| Skewness  | Measures asymmetry of the distribution. Positive = right-skewed, Negative = left-skewed. |\n",
    "| Kurtosis  | Measures tail heaviness. >3 = heavy tails (leptokurtic), <3 = light tails (platykurtic). |\n",
    "\n",
    "## 📊 Percentiles & Quartiles\n",
    "\n",
    "| Term       | Description                                                |\n",
    "|------------|------------------------------------------------------------|\n",
    "| Percentile | Value below which a certain percent of data falls.         |\n",
    "| Q1         | 25th percentile (1st quartile).                            |\n",
    "| Q2         | 50th percentile (Median).                                  |\n",
    "| Q3         | 75th percentile (3rd quartile).                            |\n",
    "\n",
    "## 🔍 Summary Stats\n",
    "\n",
    "| Term     | Description                                 |\n",
    "|----------|---------------------------------------------|\n",
    "| Minimum  | Smallest value in the dataset.              |\n",
    "| Maximum  | Largest value in the dataset.               |\n",
    "| IQR      | Q3 - Q1; used to detect outliers.           |\n",
    "| Range    | Max - Min; total spread of data.            |\n"
   ]
  },
  {
   "cell_type": "markdown",
   "id": "0762eadf",
   "metadata": {},
   "source": [
    "## 🔍 Summary Stats\n",
    "\n",
    "| Term     | Description                                 |\n",
    "|----------|---------------------------------------------|\n",
    "| Nominal  | string              |\n",
    "| Ordinal  | orderd string               |\n",
    "| interval      | num 0 != 0           |\n",
    "| Ratio    | num 0 == 0           |\n",
    "\n",
    "![image.png](https://media.discordapp.net/attachments/777830844831891477/1380064987493695508/1EzGD-95I93r6rz9UCR90PQ.png?ex=6842852d&is=684133ad&hm=f1b9901405cb3d19b91b14801cdd13e82abc8bb6f22ca65372558d07601293dc&=&format=webp&quality=lossless)"
   ]
  }
 ],
 "metadata": {
  "language_info": {
   "name": "python"
  }
 },
 "nbformat": 4,
 "nbformat_minor": 5
}
