{
  "cells": [
    {
      "cell_type": "markdown",
      "metadata": {
        "id": "dYTxJWJG5miJ"
      },
      "source": [
        "# Lab 2.03 - Univariate Analysis\n"
      ]
    },
    {
      "cell_type": "code",
      "execution_count": 1,
      "metadata": {
        "id": "MvwMKfrI8X-p"
      },
      "outputs": [],
      "source": [
        "# Importing the necessary packages\n",
        "import numpy as np                                  # \"Scientific computing\"\n",
        "import scipy.stats as stats                         # Statistical tests\n",
        "\n",
        "import pandas as pd                                 # Data Frame\n",
        "from pandas.api.types import CategoricalDtype\n",
        "\n",
        "import matplotlib.pyplot as plt                     # Basic visualisation\n",
        "from statsmodels.graphics.mosaicplot import mosaic  # Mosaic diagram\n",
        "import seaborn as sns                               # Advanced data visualisation"
      ]
    },
    {
      "cell_type": "markdown",
      "metadata": {
        "id": "s4x9EYrH5miO"
      },
      "source": [
        "## Exercise 3 - Kitten litters\n",
        "\n",
        "A vet keeps a record of the number of kittens in litters produced by cats in his practice. The code block below contains the data as a frequency table.\n",
        "\n",
        "- First put the data into one list of individual observations: [1, 1, 2, 2, ... 5, 5, 6, 6, 6, 6, 7, 7, 8]  \n",
        "- Visualise the data set using all suitable chart types that you know of.\n",
        "- Calculate:\n",
        "    - the median size of a litter\n",
        "    - the mean size of a litter\n",
        "    - the lower quartile\n",
        "    - the upper quartile"
      ]
    },
    {
      "cell_type": "code",
      "execution_count": 2,
      "metadata": {
        "colab": {
          "base_uri": "https://localhost:8080/",
          "height": 300
        },
        "id": "7pKKrRuj5miO",
        "outputId": "f0f1919c-bbdf-4149-802a-d9198278e359"
      },
      "outputs": [],
      "source": [
        "kit_dict = {\n",
        "    'Number in litter': [1, 2, 3,  4, 5, 6, 7, 8],\n",
        "    'Frequency':        [2, 4, 7, 11, 8, 4, 2, 1]\n",
        "    }\n",
        "\n",
        "kittens = pd.DataFrame.from_dict(kit_dict)\n"
      ]
    },
    {
      "cell_type": "code",
      "execution_count": 3,
      "metadata": {},
      "outputs": [
        {
          "name": "stdout",
          "output_type": "stream",
          "text": [
            "0    1\n",
            "0    1\n",
            "1    2\n",
            "1    2\n",
            "1    2\n",
            "1    2\n",
            "2    3\n",
            "2    3\n",
            "2    3\n",
            "2    3\n",
            "2    3\n",
            "2    3\n",
            "2    3\n",
            "3    4\n",
            "3    4\n",
            "3    4\n",
            "3    4\n",
            "3    4\n",
            "3    4\n",
            "3    4\n",
            "3    4\n",
            "3    4\n",
            "3    4\n",
            "3    4\n",
            "4    5\n",
            "4    5\n",
            "4    5\n",
            "4    5\n",
            "4    5\n",
            "4    5\n",
            "4    5\n",
            "4    5\n",
            "5    6\n",
            "5    6\n",
            "5    6\n",
            "5    6\n",
            "6    7\n",
            "6    7\n",
            "7    8\n",
            "Name: Number in litter, dtype: int64\n"
          ]
        }
      ],
      "source": [
        "# ft = [[x[0]] * x[1] for x in zip(kit_dict['Number in litter'], kit_dict['Frequency'])]\n",
        "# r = []\n",
        "# for s in ft:\n",
        "#     for x in s:\n",
        "#         r.append(x)\n",
        "\n",
        "expanded = kittens.loc[kittens.index.repeat(kittens['Frequency']), 'Number in litter']\n",
        "\n",
        "print(expanded)"
      ]
    },
    {
      "cell_type": "code",
      "execution_count": null,
      "metadata": {},
      "outputs": [],
      "source": [
        "kittens = kittens.set_index('Number in litter')"
      ]
    },
    {
      "cell_type": "code",
      "execution_count": null,
      "metadata": {},
      "outputs": [],
      "source": [
        "kittens.plot()"
      ]
    },
    {
      "cell_type": "code",
      "execution_count": null,
      "metadata": {},
      "outputs": [],
      "source": []
    },
    {
      "cell_type": "code",
      "execution_count": 5,
      "metadata": {},
      "outputs": [
        {
          "name": "stdout",
          "output_type": "stream",
          "text": [
            "Mean:\n",
            " 4.128205128205129 \n",
            "\n",
            "Median:\n",
            " 4.0 \n",
            "\n",
            "Quantiles (25% and 75%):\n",
            " 0.25    3.0\n",
            "0.75    5.0\n",
            "Name: Number in litter, dtype: float64\n"
          ]
        }
      ],
      "source": [
        "kitmean = expanded.mean(numeric_only=True)\n",
        "kitmedian = expanded.median(numeric_only=True)\n",
        "kitquantile = expanded.quantile([0.25,0.75])\n",
        "print(\"Mean:\\n\", kitmean, \"\\n\")\n",
        "print(\"Median:\\n\", kitmedian, \"\\n\")\n",
        "print(\"Quantiles (25% and 75%):\\n\", kitquantile)"
      ]
    },
    {
      "cell_type": "markdown",
      "metadata": {},
      "source": [
        "### Some answers:\n",
        "\n",
        "- Median: 4.0\n",
        "- Mean: 4.128205128205129\n",
        "- Lower Quartile: 3.0\n",
        "- Upper Quartile: 5.0\n",
        "\n",
        "Source: Complete Probability & Statistics 1 for Cambridge International As & A Level"
      ]
    }
  ],
  "metadata": {
    "colab": {
      "provenance": []
    },
    "gpuClass": "standard",
    "kernelspec": {
      "display_name": "Python 3",
      "name": "python3"
    },
    "language_info": {
      "codemirror_mode": {
        "name": "ipython",
        "version": 3
      },
      "file_extension": ".py",
      "mimetype": "text/x-python",
      "name": "python",
      "nbconvert_exporter": "python",
      "pygments_lexer": "ipython3",
      "version": "3.12.0"
    },
    "orig_nbformat": 4
  },
  "nbformat": 4,
  "nbformat_minor": 0
}
